{
 "cells": [
  {
   "cell_type": "code",
   "execution_count": 76,
   "id": "1d8936ab",
   "metadata": {},
   "outputs": [],
   "source": [
    "# Задание №1 парсинг hh.ru\n",
    "# Необходимо спарсить данные о вакансиях python разработчиков с сайта hh.ru, введя в поиск “python разработчик” и указав, что мы рассматриваем все регионы. Необходимо спарсить:\n",
    "\n",
    "# Название вакансии\n",
    "# Требуемый опыт работы\n",
    "# Заработную плату\n",
    "# Регион\n",
    "# И сохранить эти данные в формате json\n",
    "\n",
    "import json\n",
    "import tqdm\n",
    "import time\n",
    "import lxml\n",
    "from bs4 import BeautifulSoup\n",
    "from requests_tor import RequestsTor\n",
    "import re\n",
    "from random import randint\n",
    "data = {\n",
    "    \"data\":[]\n",
    "}\n",
    "rt = RequestsTor()\n",
    "url_npages = 'https://tver.hh.ru/search/vacancy?area=113&search_field=name&search_field=company_name&search_field=description&text=python+%D1%80%D0%B0%D0%B7%D1%80%D0%B0%D0%B1%D0%BE%D1%82%D1%87%D0%B8%D0%BA&no_magic=true&L_save_area=true&items_on_page=20&page=0&hhtmFrom=vacancy_search_list'\n",
    "response = rt.get(url_npages)\n",
    "soup = BeautifulSoup(response.text, \"lxml\")\n",
    "tag_pages = soup.find(attrs={\"data-qa\": \"pager-block\"})\n",
    "pages = int(tag_pages.text.split('д')[0].split('.')[-1]) #нахождение числа страниц с нужными вакансиями\n",
    "\n",
    "for page in range(1, int(pages)+1):\n",
    "    url = f'https://tver.hh.ru/search/vacancy?area=113&search_field=name&search_field=company_name&search_field=description&text=python+%D1%80%D0%B0%D0%B7%D1%80%D0%B0%D0%B1%D0%BE%D1%82%D1%87%D0%B8%D0%BA&no_magic=true&L_save_area=true&items_on_page=20&page={page}&hhtmFrom=vacancy_search_list'\n",
    "    response = rt.get(url)\n",
    "    soup = BeautifulSoup(response.text, \"lxml\")\n",
    "    tags_title = soup.find_all(attrs={\"data-qa\": \"serp-item__title\"})\n",
    "    for iter in tqdm.tqdm(tags_title):\n",
    "        time.sleep(randint(0, 3))\n",
    "        url_obj = iter.attrs[\"href\"]\n",
    "        resp_obj = rt.get(url_obj)\n",
    "\n",
    "        soup_obj = BeautifulSoup(resp_obj.text, \"lxml\")\n",
    "        tag_exp = soup_obj.find(attrs={\"data-qa\": \"vacancy-experience\"})\n",
    "        if tag_exp is None:\n",
    "            tag_exp = 'Не указан'\n",
    "        else:\n",
    "            tag_exp = tag_exp.text\n",
    "        # можно сделать через функцию, но времени и желания нет :(\n",
    "        tag_price = soup_obj.find(attrs={\"data-qa\": \"vacancy-salary\"})\n",
    "        if tag_price is None:\n",
    "            tag_price = 'Не указан'\n",
    "        else:\n",
    "            tag_price = tag_price.text\n",
    "\n",
    "        tag_adr = soup_obj.find(attrs={\"data-qa\": \"vacancy-view-raw-address\"})\n",
    "        if tag_adr is None:\n",
    "            tag_adr = soup_obj.find(attrs={\"data-qa\": \"vacancy-view-location\"})\n",
    "            if tag_adr is None:\n",
    "                tag_adr = 'Не указан'\n",
    "            else:\n",
    "                tag_adr = tag_adr.text.split(r',')[0]\n",
    "        else:\n",
    "            tag_adr = tag_adr.text.split(r',')[0]\n",
    "        data[\"data\"].append({\"title\":iter.text, \"work experience\":tag_exp, \"salary\":tag_price, \"region\":tag_adr})\n",
    "\n",
    "        with open(\"data.json\", \"w\", encoding='utf-8') as file:\n",
    "            json.dump(data, file, ensure_ascii=False)\n"
   ]
  },
  {
   "cell_type": "code",
   "execution_count": 25,
   "id": "8ca8b777",
   "metadata": {},
   "outputs": [
    {
     "name": "stdout",
     "output_type": "stream",
     "text": [
      "rotator\n"
     ]
    },
    {
     "data": {
      "text/plain": [
       "True"
      ]
     },
     "execution_count": 25,
     "metadata": {},
     "output_type": "execute_result"
    }
   ],
   "source": [
    "# Задание №2 Палиндром строки\n",
    "\n",
    "# Дана строка X, возвращайте True, если X является палиндромом.\n",
    "# Строка является палиндромом тогда, когда она читается одинаково как в обратном, так и в прямом направлении.\n",
    "\n",
    "# Например, является “taco cat” является палиндромом, в то время как “black cat” не является.\n",
    "# В данной задаче пробелы не учитываются.\n",
    "\n",
    "# Гарантируется, что исходная строка может содержать символы только нижнего регистра.\n",
    "\n",
    "x = str(input())\n",
    "def is_palindrome(string):\n",
    "    string = string.replace(\" \", \"\")\n",
    "    reversed_string = string[::-1]\n",
    "    return string == reversed_string\n",
    "is_palindrome(x)"
   ]
  },
  {
   "cell_type": "code",
   "execution_count": 41,
   "id": "e6cf9363",
   "metadata": {},
   "outputs": [
    {
     "name": "stdout",
     "output_type": "stream",
     "text": [
      "23\n",
      "XXIII"
     ]
    }
   ],
   "source": [
    "# Задание №3 Перевод арабского числа в римское\n",
    "\n",
    "# Дано целое положительное число X, необходимо\n",
    "# вывести вариант этого числа в римской системе счисления в формате строки.\n",
    "\n",
    "arabic_number = int(input())\n",
    "def Roman_num(number):\n",
    "    num = [1, 4, 5, 9, 10, 40, 50, 90,\n",
    "        100, 400, 500, 900, 1000]\n",
    "    sym = [\"I\", \"IV\", \"V\", \"IX\", \"X\", \"XL\",\n",
    "        \"L\", \"XC\", \"C\", \"CD\", \"D\", \"CM\", \"M\"]\n",
    "    i = 12\n",
    "    while number:\n",
    "        div = number // num[i]\n",
    "        number %= num[i]\n",
    "  \n",
    "        while div:\n",
    "            print(sym[i], end = \"\")\n",
    "            div -= 1\n",
    "        i -= 1\n",
    "Roman_num(arabic_number)"
   ]
  },
  {
   "cell_type": "code",
   "execution_count": 56,
   "id": "6d5d591f",
   "metadata": {},
   "outputs": [
    {
     "name": "stdout",
     "output_type": "stream",
     "text": [
      "[{{[[{[[{\n"
     ]
    },
    {
     "data": {
      "text/plain": [
       "False"
      ]
     },
     "execution_count": 56,
     "metadata": {},
     "output_type": "execute_result"
    }
   ],
   "source": [
    "# Задание №4 Валидность скобок\n",
    "\n",
    "# Дана строка X, состоящая только из символов “{“, “}”, “[“, “]”, “(“, “)”.\n",
    "# Программа должна вывести True, в том случае если все открытые скобки закрыты.\n",
    "# Например: “[()]{}”, все открытые скобки закрыты закрывающимися скобками,\n",
    "# потому вывод будет True. В случае же, если строка будет похожа на: “{{{}”,\n",
    "# то вывод будет False, т.к. не все открытые скобки закрыты.\n",
    "\n",
    "input_parentheses = str(input())\n",
    "def is_valid(string):\n",
    "    if len(string) % 2 != 0:\n",
    "        return False\n",
    "    parentheses = {'(' : ')', '[' : ']', '{' : '}'}\n",
    "    stack = []\n",
    "    for i in s:\n",
    "        if i in parentheses.keys():\n",
    "            stack.append(i)\n",
    "        else:\n",
    "            if stack == []:\n",
    "                return False\n",
    "            a = stack.pop()\n",
    "            if i!= parentheses[a]:\n",
    "                return False\n",
    "    return stack == []\n",
    "is_valid(input_parentheses)"
   ]
  },
  {
   "cell_type": "code",
   "execution_count": 61,
   "id": "c8bbb733",
   "metadata": {},
   "outputs": [
    {
     "name": "stdout",
     "output_type": "stream",
     "text": [
      "101\n",
      "111\n",
      "100011\n"
     ]
    }
   ],
   "source": [
    "# Задание №5 Умножить два бинарных числа в формате строк\n",
    "\n",
    "# На вход подаются две строки X1 и X2, содержащие бинарные числа.\n",
    "\n",
    "# Необходимо вывести их бинарное произведение в формате строки.\n",
    "\n",
    "firstnumber = str(input())\n",
    "secondnumber = str(input())\n",
    "\n",
    "def binary_mult(a, b): \n",
    "    Multiplication = int(a, 2) * int(b, 2)\n",
    "    binaryMul = str(bin(Multiplication)).replace('0b', '')\n",
    "    return binaryMul\n",
    "print(binary_mult(firstnumber, secondnumber))"
   ]
  },
  {
   "cell_type": "code",
   "execution_count": null,
   "id": "425af99b",
   "metadata": {},
   "outputs": [],
   "source": []
  }
 ],
 "metadata": {
  "kernelspec": {
   "display_name": "Python 3 (ipykernel)",
   "language": "python",
   "name": "python3"
  },
  "language_info": {
   "codemirror_mode": {
    "name": "ipython",
    "version": 3
   },
   "file_extension": ".py",
   "mimetype": "text/x-python",
   "name": "python",
   "nbconvert_exporter": "python",
   "pygments_lexer": "ipython3",
   "version": "3.10.2"
  }
 },
 "nbformat": 4,
 "nbformat_minor": 5
}
